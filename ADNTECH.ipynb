{
 "cells": [
  {
   "cell_type": "code",
   "execution_count": null,
   "metadata": {
    "collapsed": false
   },
   "outputs": [],
   "source": [
    "import csv  #importer la bibiotheque csv\n",
    "import tweepy  #importer la bibiotheque tweepy\n",
    "from datetime import datetime   #importer la bibiotheque datetime\n",
    "maintenant = datetime.now()     #on recupere tous les informations sur le jour actuel\n",
    "maintenant1 =maintenant.date()   #on recupere la date du jour\n",
    "print maintenant1\n",
    "consumer_key = 'your personnal consumer_key'    #infos perso pour l'API\n",
    "consumer_secret = 'your personnal consumer_secret'    #infos perso pour l'API\n",
    "access_token = 'your personnal access_token'         #infos perso pour l'API\n",
    "access_token_secret = 'your personnal access_token_secret'   #infos perso pour l'API\n",
    "\n",
    "auth = tweepy.OAuthHandler(consumer_key, consumer_secret)\n",
    "auth.set_access_token(access_token, access_token_secret)\n",
    "api = tweepy.API(auth)\n",
    "for tweet in tweepy.Cursor(api.search,q=\"#BusinessIntelligence\",count=50\n",
    "                           ).items():\n",
    "    d1 = datetime.strptime(str(maintenant1), \"%Y-%m-%d\")       #on convertir la date du jour en nombres de jour\n",
    "    d2 = datetime.strptime(str(tweet.created_at.date()), \"%Y-%m-%d\")\n",
    "    if abs((d2 - d1).days)==1:  #on verifie si le tweet recuperer a une anciennete de 31 jours\n",
    "        print abs((d2 - d1).days)   #on affiche l'age du tweet\n",
    "        print tweet.created_at, tweet.id_str, tweet.text  #on affiche les informations du tweet"
   ]
  },
  {
   "cell_type": "code",
   "execution_count": null,
   "metadata": {
    "collapsed": true
   },
   "outputs": [],
   "source": []
  }
 ],
 "metadata": {
  "anaconda-cloud": {},
  "kernelspec": {
   "display_name": "Python [conda root]",
   "language": "python",
   "name": "conda-root-py"
  }
 },
 "nbformat": 4,
 "nbformat_minor": 1
}
